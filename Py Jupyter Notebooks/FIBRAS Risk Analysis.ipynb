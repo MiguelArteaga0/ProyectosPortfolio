{
 "cells": [
  {
   "cell_type": "code",
   "execution_count": 1,
   "id": "dd9e562a",
   "metadata": {},
   "outputs": [],
   "source": [
    "import pandas as pd\n",
    "import matplotlib.pyplot as plt"
   ]
  },
  {
   "cell_type": "code",
   "execution_count": 2,
   "id": "671ed2ca",
   "metadata": {},
   "outputs": [],
   "source": [
    "df = pd.read_excel(\"B:\\\\Portfolio Projects\\\\Pandas FIBRAs\\\\FIBRAS Data Sets.xlsx\")"
   ]
  },
  {
   "cell_type": "code",
   "execution_count": 3,
   "id": "99379dfb",
   "metadata": {},
   "outputs": [
    {
     "data": {
      "text/html": [
       "<div>\n",
       "<style scoped>\n",
       "    .dataframe tbody tr th:only-of-type {\n",
       "        vertical-align: middle;\n",
       "    }\n",
       "\n",
       "    .dataframe tbody tr th {\n",
       "        vertical-align: top;\n",
       "    }\n",
       "\n",
       "    .dataframe thead th {\n",
       "        text-align: right;\n",
       "    }\n",
       "</style>\n",
       "<table border=\"1\" class=\"dataframe\">\n",
       "  <thead>\n",
       "    <tr style=\"text-align: right;\">\n",
       "      <th></th>\n",
       "      <th>Date</th>\n",
       "      <th>DANHOS13</th>\n",
       "      <th>FIBRAMQ12</th>\n",
       "      <th>FIBRAPL14</th>\n",
       "      <th>FIHO12</th>\n",
       "      <th>FINN13</th>\n",
       "      <th>FMTY14</th>\n",
       "      <th>FPLUS16</th>\n",
       "      <th>FNOVA17</th>\n",
       "      <th>FUNO11</th>\n",
       "      <th>TERRA13</th>\n",
       "    </tr>\n",
       "  </thead>\n",
       "  <tbody>\n",
       "    <tr>\n",
       "      <th>0</th>\n",
       "      <td>2019-01-01</td>\n",
       "      <td>17.867968</td>\n",
       "      <td>14.007613</td>\n",
       "      <td>25.957352</td>\n",
       "      <td>8.210637</td>\n",
       "      <td>8.565029</td>\n",
       "      <td>8.701792</td>\n",
       "      <td>14.416149</td>\n",
       "      <td>12.499578</td>\n",
       "      <td>17.298304</td>\n",
       "      <td>18.734486</td>\n",
       "    </tr>\n",
       "    <tr>\n",
       "      <th>1</th>\n",
       "      <td>2019-02-01</td>\n",
       "      <td>17.979115</td>\n",
       "      <td>14.861817</td>\n",
       "      <td>27.627991</td>\n",
       "      <td>8.584983</td>\n",
       "      <td>8.710200</td>\n",
       "      <td>8.622686</td>\n",
       "      <td>14.564260</td>\n",
       "      <td>12.499578</td>\n",
       "      <td>17.588369</td>\n",
       "      <td>19.627256</td>\n",
       "    </tr>\n",
       "    <tr>\n",
       "      <th>2</th>\n",
       "      <td>2019-03-01</td>\n",
       "      <td>18.109871</td>\n",
       "      <td>14.034307</td>\n",
       "      <td>29.197142</td>\n",
       "      <td>7.894524</td>\n",
       "      <td>7.503474</td>\n",
       "      <td>8.586728</td>\n",
       "      <td>14.712371</td>\n",
       "      <td>12.499578</td>\n",
       "      <td>18.073307</td>\n",
       "      <td>20.588705</td>\n",
       "    </tr>\n",
       "    <tr>\n",
       "      <th>3</th>\n",
       "      <td>2019-04-01</td>\n",
       "      <td>18.546963</td>\n",
       "      <td>15.338931</td>\n",
       "      <td>32.164474</td>\n",
       "      <td>8.281273</td>\n",
       "      <td>7.412014</td>\n",
       "      <td>8.529196</td>\n",
       "      <td>13.823704</td>\n",
       "      <td>12.755862</td>\n",
       "      <td>19.043684</td>\n",
       "      <td>22.418358</td>\n",
       "    </tr>\n",
       "    <tr>\n",
       "      <th>4</th>\n",
       "      <td>2019-05-01</td>\n",
       "      <td>16.045492</td>\n",
       "      <td>13.909834</td>\n",
       "      <td>30.898508</td>\n",
       "      <td>7.504369</td>\n",
       "      <td>7.402748</td>\n",
       "      <td>8.486046</td>\n",
       "      <td>13.428741</td>\n",
       "      <td>12.755862</td>\n",
       "      <td>16.947933</td>\n",
       "      <td>21.287844</td>\n",
       "    </tr>\n",
       "  </tbody>\n",
       "</table>\n",
       "</div>"
      ],
      "text/plain": [
       "        Date   DANHOS13  FIBRAMQ12  FIBRAPL14    FIHO12    FINN13    FMTY14  \\\n",
       "0 2019-01-01  17.867968  14.007613  25.957352  8.210637  8.565029  8.701792   \n",
       "1 2019-02-01  17.979115  14.861817  27.627991  8.584983  8.710200  8.622686   \n",
       "2 2019-03-01  18.109871  14.034307  29.197142  7.894524  7.503474  8.586728   \n",
       "3 2019-04-01  18.546963  15.338931  32.164474  8.281273  7.412014  8.529196   \n",
       "4 2019-05-01  16.045492  13.909834  30.898508  7.504369  7.402748  8.486046   \n",
       "\n",
       "     FPLUS16    FNOVA17     FUNO11    TERRA13  \n",
       "0  14.416149  12.499578  17.298304  18.734486  \n",
       "1  14.564260  12.499578  17.588369  19.627256  \n",
       "2  14.712371  12.499578  18.073307  20.588705  \n",
       "3  13.823704  12.755862  19.043684  22.418358  \n",
       "4  13.428741  12.755862  16.947933  21.287844  "
      ]
     },
     "execution_count": 3,
     "metadata": {},
     "output_type": "execute_result"
    }
   ],
   "source": [
    "df.head(5)"
   ]
  },
  {
   "cell_type": "code",
   "execution_count": 4,
   "id": "6eced142",
   "metadata": {},
   "outputs": [
    {
     "data": {
      "text/plain": [
       "(60, 11)"
      ]
     },
     "execution_count": 4,
     "metadata": {},
     "output_type": "execute_result"
    }
   ],
   "source": [
    "df.shape"
   ]
  },
  {
   "cell_type": "code",
   "execution_count": 5,
   "id": "3fa48c9a",
   "metadata": {
    "scrolled": true
   },
   "outputs": [
    {
     "name": "stdout",
     "output_type": "stream",
     "text": [
      "['DANHOS13', 'FIBRAMQ12', 'FIBRAPL14', 'FIHO12', 'FINN13', 'FMTY14', 'FPLUS16', 'FNOVA17', 'FUNO11', 'TERRA13']\n"
     ]
    }
   ],
   "source": [
    "\n",
    "Col_Fibras = [ 'DANHOS13', 'FIBRAMQ12', 'FIBRAPL14', 'FIHO12', 'FINN13',\n",
    "       'FMTY14', 'FPLUS16', 'FNOVA17', 'FUNO11', 'TERRA13']\n",
    "\n",
    "print(Col_Fibras)"
   ]
  },
  {
   "cell_type": "code",
   "execution_count": 6,
   "id": "73170c6c",
   "metadata": {
    "scrolled": true
   },
   "outputs": [
    {
     "name": "stdout",
     "output_type": "stream",
     "text": [
      "               FIBRA  Desviacion Estandar\n",
      "DANHOS13    DANHOS13             2.042337\n",
      "FIBRAMQ12  FIBRAMQ12             4.981270\n",
      "FIBRAPL14  FIBRAPL14            12.141340\n",
      "FIHO12        FIHO12             2.238300\n",
      "FINN13        FINN13             1.497964\n",
      "FMTY14        FMTY14             1.355518\n",
      "FPLUS16      FPLUS16             2.863089\n",
      "FNOVA17      FNOVA17             6.658063\n",
      "FUNO11        FUNO11             3.959503\n",
      "TERRA13      TERRA13             3.876537\n"
     ]
    }
   ],
   "source": [
    "Resultados = pd.DataFrame({'FIBRA': Col_Fibras,'Desviacion Estandar':df[Col_Fibras].std()})\n",
    "\n",
    "\n",
    "\n",
    "print(Resultados)"
   ]
  },
  {
   "cell_type": "code",
   "execution_count": 7,
   "id": "e349e9c7",
   "metadata": {},
   "outputs": [
    {
     "data": {
      "text/plain": [
       "Index(['FIBRA', 'Desviacion Estandar'], dtype='object')"
      ]
     },
     "execution_count": 7,
     "metadata": {},
     "output_type": "execute_result"
    }
   ],
   "source": [
    "Resultados.columns"
   ]
  },
  {
   "cell_type": "code",
   "execution_count": 8,
   "id": "453335f0",
   "metadata": {},
   "outputs": [
    {
     "name": "stdout",
     "output_type": "stream",
     "text": [
      "   DANHOS13  FIBRAMQ12  FIBRAPL14    FIHO12    FINN13    FMTY14   FPLUS16  \\\n",
      "0       NaN        NaN        NaN       NaN       NaN       NaN       NaN   \n",
      "1  0.006220   0.060981   0.064361  0.045593  0.016949 -0.009091  0.010274   \n",
      "2  0.007273  -0.055680   0.056796 -0.080426 -0.138542 -0.004170  0.010169   \n",
      "3  0.024136   0.092960   0.101631  0.048990 -0.012189 -0.006700 -0.060403   \n",
      "4 -0.134872  -0.093168  -0.039359 -0.093815 -0.001250 -0.005059 -0.028571   \n",
      "\n",
      "    FNOVA17    FUNO11   TERRA13  \n",
      "0       NaN       NaN       NaN  \n",
      "1  0.000000  0.016768  0.047654  \n",
      "2  0.000000  0.027572  0.048985  \n",
      "3  0.020503  0.053691  0.088867  \n",
      "4  0.000000 -0.110050 -0.050428  \n"
     ]
    }
   ],
   "source": [
    "retornos = df[Col_Fibras].pct_change()\n",
    "print(retornos.head(5))"
   ]
  },
  {
   "cell_type": "code",
   "execution_count": 9,
   "id": "c12f2b96",
   "metadata": {},
   "outputs": [
    {
     "name": "stdout",
     "output_type": "stream",
     "text": [
      "               FIBRA  Desviacion Estandar  Retornos_1  Sharpe Ratio\n",
      "DANHOS13    DANHOS13             2.042337    0.004994      0.002445\n",
      "FIBRAMQ12  FIBRAMQ12             4.981270    0.017544      0.003522\n",
      "FIBRAPL14  FIBRAPL14            12.141340    0.020744      0.001709\n",
      "FIHO12        FIHO12             2.238300    0.009650      0.004311\n",
      "FINN13        FINN13             1.497964   -0.003825     -0.002553\n",
      "FMTY14        FMTY14             1.355518    0.006671      0.004921\n",
      "FPLUS16      FPLUS16             2.863089   -0.010148     -0.003545\n",
      "FNOVA17      FNOVA17             6.658063    0.014856      0.002231\n",
      "FUNO11        FUNO11             3.959503    0.013701      0.003460\n",
      "TERRA13      TERRA13             3.876537    0.013027      0.003360\n"
     ]
    }
   ],
   "source": [
    "Resultados['Retornos_1'] = retornos.mean()\n",
    "Resultados['Sharpe Ratio'] = Resultados['Retornos_1'] / Resultados['Desviacion Estandar']\n",
    " \n",
    "print(Resultados)"
   ]
  },
  {
   "cell_type": "code",
   "execution_count": 10,
   "id": "05732da5",
   "metadata": {
    "scrolled": false
   },
   "outputs": [
    {
     "name": "stdout",
     "output_type": "stream",
     "text": [
      "Escribe tu tolerancia de riesgo (1-100): 80\n"
     ]
    }
   ],
   "source": [
    "TolRiesgo = int(input('Escribe tu tolerancia de riesgo (1-100): '))\n",
    "\n",
    "TolRiesgo_Pct = (TolRiesgo - 1) / 99\n",
    "\n",
    "Resultados['Coloca Sharpe Ratio'] = TolRiesgo_Pct * Resultados['Sharpe Ratio']\n",
    "Resultados['Colocacion'] = Resultados['Coloca Sharpe Ratio'].clip(lower=0.00)\n",
    "\n"
   ]
  },
  {
   "cell_type": "code",
   "execution_count": 11,
   "id": "630a3ce3",
   "metadata": {},
   "outputs": [
    {
     "name": "stdout",
     "output_type": "stream",
     "text": [
      "               FIBRA  Colocacion\n",
      "DANHOS13    DANHOS13    0.001951\n",
      "FIBRAMQ12  FIBRAMQ12    0.002811\n",
      "FIBRAPL14  FIBRAPL14    0.001363\n",
      "FIHO12        FIHO12    0.003440\n",
      "FINN13        FINN13    0.000000\n",
      "FMTY14        FMTY14    0.003927\n",
      "FPLUS16      FPLUS16    0.000000\n",
      "FNOVA17      FNOVA17    0.001780\n",
      "FUNO11        FUNO11    0.002761\n",
      "TERRA13      TERRA13    0.002681\n"
     ]
    }
   ],
   "source": [
    "imprime = ['FIBRA','Colocacion']\n",
    "\n",
    "print(Resultados[imprime])"
   ]
  },
  {
   "cell_type": "code",
   "execution_count": 12,
   "id": "1c3d9ea7",
   "metadata": {},
   "outputs": [],
   "source": [
    "UmbralColoca = Resultados['Colocacion'].mean()\n",
    "Resultados['Umbral'] = UmbralColoca"
   ]
  },
  {
   "cell_type": "code",
   "execution_count": 13,
   "id": "a5096c54",
   "metadata": {},
   "outputs": [
    {
     "name": "stdout",
     "output_type": "stream",
     "text": [
      "               FIBRA    Umbral  Colocacion\n",
      "DANHOS13    DANHOS13  0.002072    0.000000\n",
      "FIBRAMQ12  FIBRAMQ12  0.002072    0.002811\n",
      "FIBRAPL14  FIBRAPL14  0.002072    0.000000\n",
      "FIHO12        FIHO12  0.002072    0.003440\n",
      "FINN13        FINN13  0.002072    0.000000\n",
      "FMTY14        FMTY14  0.002072    0.003927\n",
      "FPLUS16      FPLUS16  0.002072    0.000000\n",
      "FNOVA17      FNOVA17  0.002072    0.000000\n",
      "FUNO11        FUNO11  0.002072    0.002761\n",
      "TERRA13      TERRA13  0.002072    0.002681\n"
     ]
    }
   ],
   "source": [
    "Resultados['Colocacion'] = Resultados['Coloca Sharpe Ratio'].apply(lambda x: 0 if x < UmbralColoca else x)\n",
    "\n",
    "\n",
    "imprime = ['FIBRA','Umbral','Colocacion']\n",
    "print(Resultados[imprime])"
   ]
  },
  {
   "cell_type": "code",
   "execution_count": 14,
   "id": "7c71855c",
   "metadata": {},
   "outputs": [
    {
     "name": "stdout",
     "output_type": "stream",
     "text": [
      "               FIBRA     Ratio    Umbral Colocacion\n",
      "DANHOS13    DANHOS13  0.001951  0.002072       0.0%\n",
      "FIBRAMQ12  FIBRAMQ12  0.002811  0.002072      18.0%\n",
      "FIBRAPL14  FIBRAPL14  0.001363  0.002072       0.0%\n",
      "FIHO12        FIHO12  0.003440  0.002072      22.0%\n",
      "FINN13        FINN13 -0.002038  0.002072       0.0%\n",
      "FMTY14        FMTY14  0.003927  0.002072      25.1%\n",
      "FPLUS16      FPLUS16 -0.002828  0.002072       0.0%\n",
      "FNOVA17      FNOVA17  0.001780  0.002072       0.0%\n",
      "FUNO11        FUNO11  0.002761  0.002072      17.7%\n",
      "TERRA13      TERRA13  0.002681  0.002072      17.2%\n"
     ]
    }
   ],
   "source": [
    "\n",
    "total_colocacion = Resultados['Colocacion'].sum()\n",
    "Resultados['Colocacion'] = 100 * (Resultados['Colocacion'] / total_colocacion)\n",
    "Resultados['Colocacion'] = Resultados['Colocacion'].map('{:.1f}%'.format)\n",
    "\n",
    "\n",
    "DfColocacion = pd.DataFrame({'FIBRA': Resultados['FIBRA'],'Ratio': Resultados['Coloca Sharpe Ratio'],'Umbral': Resultados['Umbral'] ,'Colocacion': Resultados['Colocacion']})\n",
    "print(DfColocacion)"
   ]
  },
  {
   "cell_type": "code",
   "execution_count": 15,
   "id": "3334a838",
   "metadata": {
    "scrolled": false
   },
   "outputs": [
    {
     "data": {
      "image/png": "[encoded data removed]",
      "text/plain": [
       "<Figure size 800x600 with 1 Axes>"
      ]
     },
     "metadata": {},
     "output_type": "display_data"
    }
   ],
   "source": [
    "plt.figure(figsize=(8, 6))\n",
    "plt.scatter(Resultados['Desviacion Estandar'],Resultados['Retornos_1'], alpha=0.5)\n",
    "\n",
    "for i, FIBRA in enumerate(Resultados['FIBRA']):\n",
    "    plt.annotate(FIBRA, (Resultados['Desviacion Estandar'][i], Resultados['Retornos_1'][i]), textcoords=\"offset points\", xytext=(5,5), ha='left')\n",
    "\n",
    "plt.title('Analisis de Riesgo por FIBRA')\n",
    "plt.xlabel('Riesgo (stdev de volatilidad)')\n",
    "plt.ylabel('Retorno FIBRA')\n",
    "plt.grid(True)\n",
    "plt.show()"
   ]
  },
  {
   "cell_type": "code",
   "execution_count": null,
   "id": "b0781365",
   "metadata": {},
   "outputs": [],
   "source": []
  }
 ],
 "metadata": {
  "kernelspec": {
   "display_name": "Python 3 (ipykernel)",
   "language": "python",
   "name": "python3"
  },
  "language_info": {
   "codemirror_mode": {
    "name": "ipython",
    "version": 3
   },
   "file_extension": ".py",
   "mimetype": "text/x-python",
   "name": "python",
   "nbconvert_exporter": "python",
   "pygments_lexer": "ipython3",
   "version": "3.11.5"
  }
 },
 "nbformat": 4,
 "nbformat_minor": 5
}
